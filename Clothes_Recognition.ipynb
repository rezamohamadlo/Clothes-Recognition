{
  "nbformat": 4,
  "nbformat_minor": 0,
  "metadata": {
    "colab": {
      "provenance": [],
      "gpuType": "T4",
      "authorship_tag": "ABX9TyNRSZs7GN+QZD2ahwtlx4BJ",
      "include_colab_link": true
    },
    "kernelspec": {
      "name": "python3",
      "display_name": "Python 3"
    },
    "language_info": {
      "name": "python"
    },
    "accelerator": "GPU"
  },
  "cells": [
    {
      "cell_type": "markdown",
      "metadata": {
        "id": "view-in-github",
        "colab_type": "text"
      },
      "source": [
        "<a href=\"https://colab.research.google.com/github/rezamohamadlo/Clothes-Recognition/blob/main/Clothes_Recognition.ipynb\" target=\"_parent\"><img src=\"https://colab.research.google.com/assets/colab-badge.svg\" alt=\"Open In Colab\"/></a>"
      ]
    },
    {
      "cell_type": "code",
      "execution_count": 1,
      "metadata": {
        "id": "30RVs2hh44l-"
      },
      "outputs": [],
      "source": [
        "# Import necessary libraries\n",
        "import keras  # Import Keras for building neural networks\n",
        "from __future__ import absolute_import  # Ensures compatibility with future versions\n",
        "from __future__ import print_function  # Allows print function to work consistently across Python versions\n",
        "\n",
        "import numpy as np  # Import NumPy for numerical operations\n",
        "import random  # Import random for generating random numbers\n",
        "\n",
        "# Import the MNIST dataset from Keras\n",
        "from keras.datasets import mnist\n",
        "\n",
        "# Import necessary components from Keras for building models\n",
        "from keras.models import Model  # Import Model class for creating Keras models\n",
        "from keras.layers import Input, Flatten, Dense, Dropout, Lambda  # Import various layer types\n",
        "from keras.layers import Conv2D, Activation, AveragePooling2D, MaxPooling2D  # Import convolutional and pooling layers\n",
        "\n",
        "# Import RMSprop optimizer for training the model\n",
        "from keras.optimizers import RMSprop\n",
        "\n",
        "# Import Keras backend functions for tensor operations\n",
        "from tensorflow.keras import backend as K\n",
        "\n",
        "# Import Matplotlib for plotting results\n",
        "import matplotlib.pyplot as plt\n",
        "\n",
        "# Import PIL (Python Imaging Library) for image processing tasks\n",
        "from PIL import Image\n",
        "\n",
        "# Import TensorFlow (Keras is built on top of TensorFlow)\n",
        "import tensorflow as tf"
      ]
    },
    {
      "cell_type": "code",
      "source": [
        "# Function to compute the Euclidean distance between two vectors\n",
        "def euclid_dis(vects):\n",
        "    # Unpack the input vectors\n",
        "    x, y = vects\n",
        "    # Calculate the sum of squared differences between the two vectors\n",
        "    sum_square = K.sum(K.square(x - y), axis=1, keepdims=True)\n",
        "    # Return the square root of the sum of squares, ensuring numerical stability with K.epsilon()\n",
        "    return K.sqrt(K.maximum(sum_square, K.epsilon()))\n",
        "\n",
        "# Function to define the output shape of the Euclidean distance layer\n",
        "def eucl_dist_output_shape(shapes):\n",
        "    # Unpack the shapes of the input tensors\n",
        "    shape1, shape2 = shapes\n",
        "    # Return the shape of the output, which is (batch_size, 1)\n",
        "    return (shape1[0], 1)\n",
        "\n",
        "# Contrastive loss function for training a Siamese network\n",
        "def contrastive_loss(y_true, y_pred):\n",
        "    margin = 1  # Define a margin for the loss calculation\n",
        "    # Calculate the squared predictions\n",
        "    square_pred = K.square(y_pred)\n",
        "    # Calculate the squared margin loss for predictions that exceed the margin\n",
        "    margin_square = K.square(K.maximum(margin - y_pred, 0))\n",
        "    # Return the mean contrastive loss across all samples\n",
        "    return K.mean(y_true * square_pred + (1 - y_true) * margin_square)"
      ],
      "metadata": {
        "id": "OwTDZvGZ5Czd"
      },
      "execution_count": 2,
      "outputs": []
    },
    {
      "cell_type": "code",
      "source": [
        "# Function to create pairs of images and their corresponding labels for training\n",
        "def create_pairs(x, digit_indices):\n",
        "    pairs = []  # List to hold the image pairs\n",
        "    labels = []  # List to hold the labels corresponding to the pairs\n",
        "\n",
        "    # Determine the number of pairs to create based on the minimum number of samples per class\n",
        "    n = min([len(digit_indices[d]) for d in range(num_classes)]) - 1\n",
        "\n",
        "    # Loop through each digit class\n",
        "    for d in range(num_classes):\n",
        "        # Create pairs of similar images (same class)\n",
        "        for i in range(n):\n",
        "            z1, z2 = digit_indices[d][i], digit_indices[d][i + 1]  # Get indices of two similar images\n",
        "            pairs += [[x[z1], x[z2]]]  # Append the pair to the list of pairs\n",
        "\n",
        "            # Create a pair of dissimilar images (different classes)\n",
        "            inc = random.randrange(1, num_classes)  # Randomly select another class\n",
        "            dn = (d + inc) % num_classes  # Ensure the class index wraps around\n",
        "            z1, z2 = digit_indices[d][i], digit_indices[dn][i]  # Get indices for one image from the current class and one from the new class\n",
        "            pairs += [[x[z1], x[z2]]]  # Append the dissimilar pair\n",
        "\n",
        "            labels += [1, 0]  # Append labels: 1 for similar pair, 0 for dissimilar pair\n",
        "\n",
        "    return np.array(pairs), np.array(labels)  # Return the pairs and their corresponding labels as numpy arrays"
      ],
      "metadata": {
        "id": "RJroRqQk4-iQ"
      },
      "execution_count": 3,
      "outputs": []
    },
    {
      "cell_type": "code",
      "source": [
        "# Function to create a base neural network model for feature extraction\n",
        "def create_base_net(input_shape):\n",
        "    # Define the input layer with the specified input shape\n",
        "    input = Input(shape=input_shape)\n",
        "\n",
        "    # First convolutional layer: 32 filters, 3x3 kernel, ReLU activation\n",
        "    x = Conv2D(32, (3, 3), activation='relu')(input)\n",
        "\n",
        "    # First average pooling layer: reduces spatial dimensions by taking the average over a 2x2 window\n",
        "    x = AveragePooling2D(pool_size=(2, 2))(x)\n",
        "\n",
        "    # Second convolutional layer: 64 filters, 3x3 kernel, Tanh activation\n",
        "    x = Conv2D(64, (3, 3), activation='tanh')(x)\n",
        "\n",
        "    # Second max pooling layer: reduces spatial dimensions by taking the maximum over a 2x2 window\n",
        "    x = MaxPooling2D(pool_size=(2, 2))(x)\n",
        "\n",
        "    # Dropout layer: randomly sets a fraction (25%) of input units to 0 during training to prevent overfitting\n",
        "    x = Dropout(0.25)(x)\n",
        "\n",
        "    # Flatten layer: flattens the output from the convolutional layers into a 1D vector\n",
        "    x = Flatten()(x)\n",
        "\n",
        "    # Fully connected layer: 128 units, Tanh activation\n",
        "    x = Dense(128, activation='tanh')(x)\n",
        "\n",
        "    # Dropout layer: randomly sets a fraction (50%) of input units to 0 during training to prevent overfitting\n",
        "    x = Dropout(0.5)(x)\n",
        "\n",
        "    # Fully connected layer: 64 units, Tanh activation\n",
        "    x = Dense(64, activation='tanh')(x)\n",
        "\n",
        "    # Dropout layer: randomly sets a fraction (50%) of input units to 0 during training to prevent overfitting\n",
        "    x = Dropout(0.5)(x)\n",
        "\n",
        "    # Output layer: 10 units (for classification), Tanh activation\n",
        "    x = Dense(10, activation='tanh')(x)\n",
        "\n",
        "    # Create the model using the defined input and output layers\n",
        "    model = Model(input, x)\n",
        "\n",
        "    # Print a summary of the model architecture\n",
        "    model.summary()\n",
        "\n",
        "    return model  # Return the constructed model"
      ],
      "metadata": {
        "id": "0bc2kDe_5Jl8"
      },
      "execution_count": 4,
      "outputs": []
    },
    {
      "cell_type": "code",
      "source": [
        "# Function to compute classification accuracy based on a fixed threshold on distances\n",
        "def compute_accuracy(y_true, y_pred):\n",
        "    '''Compute classification accuracy with a fixed threshold on distances.'''\n",
        "    # Flatten the predictions and check if they are less than 0.5 (threshold)\n",
        "    pred = y_pred.ravel() < 0.5\n",
        "    # Calculate the mean accuracy by comparing predictions with true labels\n",
        "    return np.mean(pred == y_true)\n",
        "\n",
        "# Function to compute classification accuracy using Keras backend\n",
        "def accuracy(y_true, y_pred):\n",
        "    '''Compute classification accuracy with a fixed threshold on distances.'''\n",
        "    # Compare true labels with predicted labels (after applying threshold) and calculate mean accuracy\n",
        "    return K.mean(K.equal(y_true, K.cast(y_pred < 0.5, y_true.dtype)))\n",
        "\n",
        "# Load the MNIST dataset (handwritten digits)\n",
        "(x_train, y_train), (x_test, y_test) = mnist.load_data()\n",
        "\n",
        "# Reshape the input data to include a channel dimension (for grayscale images)\n",
        "x_train = x_train.reshape(x_train.shape[0], 28, 28, 1)\n",
        "x_test = x_test.reshape(x_test.shape[0], 28, 28, 1)\n",
        "\n",
        "# Print the shape of the training data to verify the reshaping\n",
        "print(x_train.shape)\n",
        "\n",
        "# Convert the data type to float32 for model compatibility\n",
        "x_train = x_train.astype('float32')\n",
        "x_test = x_test.astype('float32')\n",
        "\n",
        "# Normalize pixel values to be between 0 and 1 by dividing by 255\n",
        "x_train /= 255\n",
        "x_test /= 255\n",
        "\n",
        "# Define the input shape for the model based on reshaped training data\n",
        "input_shape = x_train.shape[1:]\n",
        "input_shape = (28, 28, 1)  # Explicitly set input shape for clarity"
      ],
      "metadata": {
        "colab": {
          "base_uri": "https://localhost:8080/"
        },
        "id": "ERVtGh5s5Jjc",
        "outputId": "6d612262-b1de-4cdd-c0f4-a016afe8d2e8"
      },
      "execution_count": 5,
      "outputs": [
        {
          "output_type": "stream",
          "name": "stdout",
          "text": [
            "Downloading data from https://storage.googleapis.com/tensorflow/tf-keras-datasets/mnist.npz\n",
            "\u001b[1m11490434/11490434\u001b[0m \u001b[32m━━━━━━━━━━━━━━━━━━━━\u001b[0m\u001b[37m\u001b[0m \u001b[1m0s\u001b[0m 0us/step\n",
            "(60000, 28, 28, 1)\n"
          ]
        }
      ]
    },
    {
      "cell_type": "code",
      "source": [
        "# Define the number of classes in the dataset (10 for MNIST digits 0-9)\n",
        "num_classes = 10\n",
        "\n",
        "# Create training and test positive and negative pairs for the Siamese network\n",
        "# `digit_indices` holds the indices of samples for each digit class in the training set\n",
        "digit_indices = [np.where(y_train == i)[0] for i in range(num_classes)]\n",
        "# Generate training pairs and their corresponding labels using the `create_pairs` function\n",
        "tr_pairs, tr_y = create_pairs(x_train, digit_indices)\n",
        "\n",
        "# Repeat the process for the test set\n",
        "# `digit_indices` holds the indices of samples for each digit class in the test set\n",
        "digit_indices = [np.where(y_test == i)[0] for i in range(num_classes)]\n",
        "# Generate test pairs and their corresponding labels using the `create_pairs` function\n",
        "te_pairs, te_y = create_pairs(x_test, digit_indices)\n",
        "\n",
        "# Network definition: Create the base network model for feature extraction\n",
        "base_network = create_base_net(input_shape)"
      ],
      "metadata": {
        "colab": {
          "base_uri": "https://localhost:8080/",
          "height": 521
        },
        "id": "NwTceqgu5O-p",
        "outputId": "903bce52-d159-43c8-a694-772f5f681f0d"
      },
      "execution_count": 6,
      "outputs": [
        {
          "output_type": "display_data",
          "data": {
            "text/plain": [
              "\u001b[1mModel: \"functional\"\u001b[0m\n"
            ],
            "text/html": [
              "<pre style=\"white-space:pre;overflow-x:auto;line-height:normal;font-family:Menlo,'DejaVu Sans Mono',consolas,'Courier New',monospace\"><span style=\"font-weight: bold\">Model: \"functional\"</span>\n",
              "</pre>\n"
            ]
          },
          "metadata": {}
        },
        {
          "output_type": "display_data",
          "data": {
            "text/plain": [
              "┏━━━━━━━━━━━━━━━━━━━━━━━━━━━━━━━━━━━━━━┳━━━━━━━━━━━━━━━━━━━━━━━━━━━━━┳━━━━━━━━━━━━━━━━━┓\n",
              "┃\u001b[1m \u001b[0m\u001b[1mLayer (type)                        \u001b[0m\u001b[1m \u001b[0m┃\u001b[1m \u001b[0m\u001b[1mOutput Shape               \u001b[0m\u001b[1m \u001b[0m┃\u001b[1m \u001b[0m\u001b[1m        Param #\u001b[0m\u001b[1m \u001b[0m┃\n",
              "┡━━━━━━━━━━━━━━━━━━━━━━━━━━━━━━━━━━━━━━╇━━━━━━━━━━━━━━━━━━━━━━━━━━━━━╇━━━━━━━━━━━━━━━━━┩\n",
              "│ input_layer (\u001b[38;5;33mInputLayer\u001b[0m)             │ (\u001b[38;5;45mNone\u001b[0m, \u001b[38;5;34m28\u001b[0m, \u001b[38;5;34m28\u001b[0m, \u001b[38;5;34m1\u001b[0m)           │               \u001b[38;5;34m0\u001b[0m │\n",
              "├──────────────────────────────────────┼─────────────────────────────┼─────────────────┤\n",
              "│ conv2d (\u001b[38;5;33mConv2D\u001b[0m)                      │ (\u001b[38;5;45mNone\u001b[0m, \u001b[38;5;34m26\u001b[0m, \u001b[38;5;34m26\u001b[0m, \u001b[38;5;34m32\u001b[0m)          │             \u001b[38;5;34m320\u001b[0m │\n",
              "├──────────────────────────────────────┼─────────────────────────────┼─────────────────┤\n",
              "│ average_pooling2d (\u001b[38;5;33mAveragePooling2D\u001b[0m) │ (\u001b[38;5;45mNone\u001b[0m, \u001b[38;5;34m13\u001b[0m, \u001b[38;5;34m13\u001b[0m, \u001b[38;5;34m32\u001b[0m)          │               \u001b[38;5;34m0\u001b[0m │\n",
              "├──────────────────────────────────────┼─────────────────────────────┼─────────────────┤\n",
              "│ conv2d_1 (\u001b[38;5;33mConv2D\u001b[0m)                    │ (\u001b[38;5;45mNone\u001b[0m, \u001b[38;5;34m11\u001b[0m, \u001b[38;5;34m11\u001b[0m, \u001b[38;5;34m64\u001b[0m)          │          \u001b[38;5;34m18,496\u001b[0m │\n",
              "├──────────────────────────────────────┼─────────────────────────────┼─────────────────┤\n",
              "│ max_pooling2d (\u001b[38;5;33mMaxPooling2D\u001b[0m)         │ (\u001b[38;5;45mNone\u001b[0m, \u001b[38;5;34m5\u001b[0m, \u001b[38;5;34m5\u001b[0m, \u001b[38;5;34m64\u001b[0m)            │               \u001b[38;5;34m0\u001b[0m │\n",
              "├──────────────────────────────────────┼─────────────────────────────┼─────────────────┤\n",
              "│ dropout (\u001b[38;5;33mDropout\u001b[0m)                    │ (\u001b[38;5;45mNone\u001b[0m, \u001b[38;5;34m5\u001b[0m, \u001b[38;5;34m5\u001b[0m, \u001b[38;5;34m64\u001b[0m)            │               \u001b[38;5;34m0\u001b[0m │\n",
              "├──────────────────────────────────────┼─────────────────────────────┼─────────────────┤\n",
              "│ flatten (\u001b[38;5;33mFlatten\u001b[0m)                    │ (\u001b[38;5;45mNone\u001b[0m, \u001b[38;5;34m1600\u001b[0m)                │               \u001b[38;5;34m0\u001b[0m │\n",
              "├──────────────────────────────────────┼─────────────────────────────┼─────────────────┤\n",
              "│ dense (\u001b[38;5;33mDense\u001b[0m)                        │ (\u001b[38;5;45mNone\u001b[0m, \u001b[38;5;34m128\u001b[0m)                 │         \u001b[38;5;34m204,928\u001b[0m │\n",
              "├──────────────────────────────────────┼─────────────────────────────┼─────────────────┤\n",
              "│ dropout_1 (\u001b[38;5;33mDropout\u001b[0m)                  │ (\u001b[38;5;45mNone\u001b[0m, \u001b[38;5;34m128\u001b[0m)                 │               \u001b[38;5;34m0\u001b[0m │\n",
              "├──────────────────────────────────────┼─────────────────────────────┼─────────────────┤\n",
              "│ dense_1 (\u001b[38;5;33mDense\u001b[0m)                      │ (\u001b[38;5;45mNone\u001b[0m, \u001b[38;5;34m64\u001b[0m)                  │           \u001b[38;5;34m8,256\u001b[0m │\n",
              "├──────────────────────────────────────┼─────────────────────────────┼─────────────────┤\n",
              "│ dropout_2 (\u001b[38;5;33mDropout\u001b[0m)                  │ (\u001b[38;5;45mNone\u001b[0m, \u001b[38;5;34m64\u001b[0m)                  │               \u001b[38;5;34m0\u001b[0m │\n",
              "├──────────────────────────────────────┼─────────────────────────────┼─────────────────┤\n",
              "│ dense_2 (\u001b[38;5;33mDense\u001b[0m)                      │ (\u001b[38;5;45mNone\u001b[0m, \u001b[38;5;34m10\u001b[0m)                  │             \u001b[38;5;34m650\u001b[0m │\n",
              "└──────────────────────────────────────┴─────────────────────────────┴─────────────────┘\n"
            ],
            "text/html": [
              "<pre style=\"white-space:pre;overflow-x:auto;line-height:normal;font-family:Menlo,'DejaVu Sans Mono',consolas,'Courier New',monospace\">┏━━━━━━━━━━━━━━━━━━━━━━━━━━━━━━━━━━━━━━┳━━━━━━━━━━━━━━━━━━━━━━━━━━━━━┳━━━━━━━━━━━━━━━━━┓\n",
              "┃<span style=\"font-weight: bold\"> Layer (type)                         </span>┃<span style=\"font-weight: bold\"> Output Shape                </span>┃<span style=\"font-weight: bold\">         Param # </span>┃\n",
              "┡━━━━━━━━━━━━━━━━━━━━━━━━━━━━━━━━━━━━━━╇━━━━━━━━━━━━━━━━━━━━━━━━━━━━━╇━━━━━━━━━━━━━━━━━┩\n",
              "│ input_layer (<span style=\"color: #0087ff; text-decoration-color: #0087ff\">InputLayer</span>)             │ (<span style=\"color: #00d7ff; text-decoration-color: #00d7ff\">None</span>, <span style=\"color: #00af00; text-decoration-color: #00af00\">28</span>, <span style=\"color: #00af00; text-decoration-color: #00af00\">28</span>, <span style=\"color: #00af00; text-decoration-color: #00af00\">1</span>)           │               <span style=\"color: #00af00; text-decoration-color: #00af00\">0</span> │\n",
              "├──────────────────────────────────────┼─────────────────────────────┼─────────────────┤\n",
              "│ conv2d (<span style=\"color: #0087ff; text-decoration-color: #0087ff\">Conv2D</span>)                      │ (<span style=\"color: #00d7ff; text-decoration-color: #00d7ff\">None</span>, <span style=\"color: #00af00; text-decoration-color: #00af00\">26</span>, <span style=\"color: #00af00; text-decoration-color: #00af00\">26</span>, <span style=\"color: #00af00; text-decoration-color: #00af00\">32</span>)          │             <span style=\"color: #00af00; text-decoration-color: #00af00\">320</span> │\n",
              "├──────────────────────────────────────┼─────────────────────────────┼─────────────────┤\n",
              "│ average_pooling2d (<span style=\"color: #0087ff; text-decoration-color: #0087ff\">AveragePooling2D</span>) │ (<span style=\"color: #00d7ff; text-decoration-color: #00d7ff\">None</span>, <span style=\"color: #00af00; text-decoration-color: #00af00\">13</span>, <span style=\"color: #00af00; text-decoration-color: #00af00\">13</span>, <span style=\"color: #00af00; text-decoration-color: #00af00\">32</span>)          │               <span style=\"color: #00af00; text-decoration-color: #00af00\">0</span> │\n",
              "├──────────────────────────────────────┼─────────────────────────────┼─────────────────┤\n",
              "│ conv2d_1 (<span style=\"color: #0087ff; text-decoration-color: #0087ff\">Conv2D</span>)                    │ (<span style=\"color: #00d7ff; text-decoration-color: #00d7ff\">None</span>, <span style=\"color: #00af00; text-decoration-color: #00af00\">11</span>, <span style=\"color: #00af00; text-decoration-color: #00af00\">11</span>, <span style=\"color: #00af00; text-decoration-color: #00af00\">64</span>)          │          <span style=\"color: #00af00; text-decoration-color: #00af00\">18,496</span> │\n",
              "├──────────────────────────────────────┼─────────────────────────────┼─────────────────┤\n",
              "│ max_pooling2d (<span style=\"color: #0087ff; text-decoration-color: #0087ff\">MaxPooling2D</span>)         │ (<span style=\"color: #00d7ff; text-decoration-color: #00d7ff\">None</span>, <span style=\"color: #00af00; text-decoration-color: #00af00\">5</span>, <span style=\"color: #00af00; text-decoration-color: #00af00\">5</span>, <span style=\"color: #00af00; text-decoration-color: #00af00\">64</span>)            │               <span style=\"color: #00af00; text-decoration-color: #00af00\">0</span> │\n",
              "├──────────────────────────────────────┼─────────────────────────────┼─────────────────┤\n",
              "│ dropout (<span style=\"color: #0087ff; text-decoration-color: #0087ff\">Dropout</span>)                    │ (<span style=\"color: #00d7ff; text-decoration-color: #00d7ff\">None</span>, <span style=\"color: #00af00; text-decoration-color: #00af00\">5</span>, <span style=\"color: #00af00; text-decoration-color: #00af00\">5</span>, <span style=\"color: #00af00; text-decoration-color: #00af00\">64</span>)            │               <span style=\"color: #00af00; text-decoration-color: #00af00\">0</span> │\n",
              "├──────────────────────────────────────┼─────────────────────────────┼─────────────────┤\n",
              "│ flatten (<span style=\"color: #0087ff; text-decoration-color: #0087ff\">Flatten</span>)                    │ (<span style=\"color: #00d7ff; text-decoration-color: #00d7ff\">None</span>, <span style=\"color: #00af00; text-decoration-color: #00af00\">1600</span>)                │               <span style=\"color: #00af00; text-decoration-color: #00af00\">0</span> │\n",
              "├──────────────────────────────────────┼─────────────────────────────┼─────────────────┤\n",
              "│ dense (<span style=\"color: #0087ff; text-decoration-color: #0087ff\">Dense</span>)                        │ (<span style=\"color: #00d7ff; text-decoration-color: #00d7ff\">None</span>, <span style=\"color: #00af00; text-decoration-color: #00af00\">128</span>)                 │         <span style=\"color: #00af00; text-decoration-color: #00af00\">204,928</span> │\n",
              "├──────────────────────────────────────┼─────────────────────────────┼─────────────────┤\n",
              "│ dropout_1 (<span style=\"color: #0087ff; text-decoration-color: #0087ff\">Dropout</span>)                  │ (<span style=\"color: #00d7ff; text-decoration-color: #00d7ff\">None</span>, <span style=\"color: #00af00; text-decoration-color: #00af00\">128</span>)                 │               <span style=\"color: #00af00; text-decoration-color: #00af00\">0</span> │\n",
              "├──────────────────────────────────────┼─────────────────────────────┼─────────────────┤\n",
              "│ dense_1 (<span style=\"color: #0087ff; text-decoration-color: #0087ff\">Dense</span>)                      │ (<span style=\"color: #00d7ff; text-decoration-color: #00d7ff\">None</span>, <span style=\"color: #00af00; text-decoration-color: #00af00\">64</span>)                  │           <span style=\"color: #00af00; text-decoration-color: #00af00\">8,256</span> │\n",
              "├──────────────────────────────────────┼─────────────────────────────┼─────────────────┤\n",
              "│ dropout_2 (<span style=\"color: #0087ff; text-decoration-color: #0087ff\">Dropout</span>)                  │ (<span style=\"color: #00d7ff; text-decoration-color: #00d7ff\">None</span>, <span style=\"color: #00af00; text-decoration-color: #00af00\">64</span>)                  │               <span style=\"color: #00af00; text-decoration-color: #00af00\">0</span> │\n",
              "├──────────────────────────────────────┼─────────────────────────────┼─────────────────┤\n",
              "│ dense_2 (<span style=\"color: #0087ff; text-decoration-color: #0087ff\">Dense</span>)                      │ (<span style=\"color: #00d7ff; text-decoration-color: #00d7ff\">None</span>, <span style=\"color: #00af00; text-decoration-color: #00af00\">10</span>)                  │             <span style=\"color: #00af00; text-decoration-color: #00af00\">650</span> │\n",
              "└──────────────────────────────────────┴─────────────────────────────┴─────────────────┘\n",
              "</pre>\n"
            ]
          },
          "metadata": {}
        },
        {
          "output_type": "display_data",
          "data": {
            "text/plain": [
              "\u001b[1m Total params: \u001b[0m\u001b[38;5;34m232,650\u001b[0m (908.79 KB)\n"
            ],
            "text/html": [
              "<pre style=\"white-space:pre;overflow-x:auto;line-height:normal;font-family:Menlo,'DejaVu Sans Mono',consolas,'Courier New',monospace\"><span style=\"font-weight: bold\"> Total params: </span><span style=\"color: #00af00; text-decoration-color: #00af00\">232,650</span> (908.79 KB)\n",
              "</pre>\n"
            ]
          },
          "metadata": {}
        },
        {
          "output_type": "display_data",
          "data": {
            "text/plain": [
              "\u001b[1m Trainable params: \u001b[0m\u001b[38;5;34m232,650\u001b[0m (908.79 KB)\n"
            ],
            "text/html": [
              "<pre style=\"white-space:pre;overflow-x:auto;line-height:normal;font-family:Menlo,'DejaVu Sans Mono',consolas,'Courier New',monospace\"><span style=\"font-weight: bold\"> Trainable params: </span><span style=\"color: #00af00; text-decoration-color: #00af00\">232,650</span> (908.79 KB)\n",
              "</pre>\n"
            ]
          },
          "metadata": {}
        },
        {
          "output_type": "display_data",
          "data": {
            "text/plain": [
              "\u001b[1m Non-trainable params: \u001b[0m\u001b[38;5;34m0\u001b[0m (0.00 B)\n"
            ],
            "text/html": [
              "<pre style=\"white-space:pre;overflow-x:auto;line-height:normal;font-family:Menlo,'DejaVu Sans Mono',consolas,'Courier New',monospace\"><span style=\"font-weight: bold\"> Non-trainable params: </span><span style=\"color: #00af00; text-decoration-color: #00af00\">0</span> (0.00 B)\n",
              "</pre>\n"
            ]
          },
          "metadata": {}
        }
      ]
    },
    {
      "cell_type": "code",
      "source": [
        "# Define two input layers for the Siamese network, one for each image in the pair\n",
        "input_a = Input(shape=input_shape)  # Input for the first image\n",
        "input_b = Input(shape=input_shape)  # Input for the second image\n",
        "\n",
        "# Process both inputs through the base network to extract features\n",
        "processed_a = base_network(input_a)  # Features extracted from the first input\n",
        "processed_b = base_network(input_b)  # Features extracted from the second input\n",
        "\n",
        "# Compute the distance between the two processed feature vectors using a custom distance function\n",
        "distance = Lambda(euclid_dis,  # Use the Euclidean distance function defined earlier\n",
        "                  output_shape=eucl_dist_output_shape)([processed_a, processed_b])  # Specify output shape\n",
        "\n",
        "# Create a Keras model that takes two inputs and outputs their distance\n",
        "model = Model([input_a, input_b], distance)"
      ],
      "metadata": {
        "id": "AdRjXNfK5O8Y"
      },
      "execution_count": 7,
      "outputs": []
    },
    {
      "cell_type": "code",
      "source": [
        "# Set the number of epochs for training the model\n",
        "epochs = 20\n",
        "\n",
        "# Initialize the RMSprop optimizer\n",
        "rms = RMSprop()\n",
        "\n",
        "# Compile the model with the contrastive loss function, RMSprop optimizer, and accuracy metric\n",
        "model.compile(loss=contrastive_loss,  # Loss function to minimize\n",
        "              optimizer=rms,  # Optimizer for updating model weights\n",
        "              metrics=[accuracy])  # Metric to evaluate during training\n",
        "\n",
        "# Train the model using the training pairs and labels\n",
        "model.fit([tr_pairs[:, 0], tr_pairs[:, 1]], tr_y,  # Input pairs and their corresponding labels\n",
        "          batch_size=128,  # Number of samples per gradient update\n",
        "          epochs=epochs,  # Number of times to iterate over the training data\n",
        "          validation_data=([te_pairs[:, 0], te_pairs[:, 1]], te_y))  # Validation data for evaluating performance during training"
      ],
      "metadata": {
        "colab": {
          "base_uri": "https://localhost:8080/"
        },
        "id": "KEFx5U7M5O5m",
        "outputId": "f65ea0f9-8623-4989-8357-772b2ad63b1b"
      },
      "execution_count": 8,
      "outputs": [
        {
          "output_type": "stream",
          "name": "stdout",
          "text": [
            "Epoch 1/20\n",
            "\u001b[1m847/847\u001b[0m \u001b[32m━━━━━━━━━━━━━━━━━━━━\u001b[0m\u001b[37m\u001b[0m \u001b[1m28s\u001b[0m 15ms/step - accuracy: 0.5023 - loss: 0.1793 - val_accuracy: 0.5000 - val_loss: 0.0742\n",
            "Epoch 2/20\n",
            "\u001b[1m847/847\u001b[0m \u001b[32m━━━━━━━━━━━━━━━━━━━━\u001b[0m\u001b[37m\u001b[0m \u001b[1m22s\u001b[0m 5ms/step - accuracy: 0.5030 - loss: 0.1022 - val_accuracy: 0.5000 - val_loss: 0.0565\n",
            "Epoch 3/20\n",
            "\u001b[1m847/847\u001b[0m \u001b[32m━━━━━━━━━━━━━━━━━━━━\u001b[0m\u001b[37m\u001b[0m \u001b[1m4s\u001b[0m 5ms/step - accuracy: 0.5029 - loss: 0.0907 - val_accuracy: 0.5000 - val_loss: 0.0537\n",
            "Epoch 4/20\n",
            "\u001b[1m847/847\u001b[0m \u001b[32m━━━━━━━━━━━━━━━━━━━━\u001b[0m\u001b[37m\u001b[0m \u001b[1m4s\u001b[0m 5ms/step - accuracy: 0.5037 - loss: 0.0829 - val_accuracy: 0.5000 - val_loss: 0.0496\n",
            "Epoch 5/20\n",
            "\u001b[1m847/847\u001b[0m \u001b[32m━━━━━━━━━━━━━━━━━━━━\u001b[0m\u001b[37m\u001b[0m \u001b[1m5s\u001b[0m 5ms/step - accuracy: 0.5037 - loss: 0.0783 - val_accuracy: 0.5000 - val_loss: 0.0492\n",
            "Epoch 6/20\n",
            "\u001b[1m847/847\u001b[0m \u001b[32m━━━━━━━━━━━━━━━━━━━━\u001b[0m\u001b[37m\u001b[0m \u001b[1m5s\u001b[0m 5ms/step - accuracy: 0.5033 - loss: 0.0741 - val_accuracy: 0.5000 - val_loss: 0.0452\n",
            "Epoch 7/20\n",
            "\u001b[1m847/847\u001b[0m \u001b[32m━━━━━━━━━━━━━━━━━━━━\u001b[0m\u001b[37m\u001b[0m \u001b[1m5s\u001b[0m 6ms/step - accuracy: 0.5035 - loss: 0.0705 - val_accuracy: 0.5000 - val_loss: 0.0418\n",
            "Epoch 8/20\n",
            "\u001b[1m847/847\u001b[0m \u001b[32m━━━━━━━━━━━━━━━━━━━━\u001b[0m\u001b[37m\u001b[0m \u001b[1m5s\u001b[0m 5ms/step - accuracy: 0.5039 - loss: 0.0665 - val_accuracy: 0.5000 - val_loss: 0.0409\n",
            "Epoch 9/20\n",
            "\u001b[1m847/847\u001b[0m \u001b[32m━━━━━━━━━━━━━━━━━━━━\u001b[0m\u001b[37m\u001b[0m \u001b[1m5s\u001b[0m 5ms/step - accuracy: 0.5035 - loss: 0.0629 - val_accuracy: 0.5000 - val_loss: 0.0407\n",
            "Epoch 10/20\n",
            "\u001b[1m847/847\u001b[0m \u001b[32m━━━━━━━━━━━━━━━━━━━━\u001b[0m\u001b[37m\u001b[0m \u001b[1m5s\u001b[0m 5ms/step - accuracy: 0.5036 - loss: 0.0625 - val_accuracy: 0.5000 - val_loss: 0.0383\n",
            "Epoch 11/20\n",
            "\u001b[1m847/847\u001b[0m \u001b[32m━━━━━━━━━━━━━━━━━━━━\u001b[0m\u001b[37m\u001b[0m \u001b[1m4s\u001b[0m 5ms/step - accuracy: 0.5033 - loss: 0.0606 - val_accuracy: 0.5000 - val_loss: 0.0384\n",
            "Epoch 12/20\n",
            "\u001b[1m847/847\u001b[0m \u001b[32m━━━━━━━━━━━━━━━━━━━━\u001b[0m\u001b[37m\u001b[0m \u001b[1m6s\u001b[0m 5ms/step - accuracy: 0.5033 - loss: 0.0590 - val_accuracy: 0.5000 - val_loss: 0.0410\n",
            "Epoch 13/20\n",
            "\u001b[1m847/847\u001b[0m \u001b[32m━━━━━━━━━━━━━━━━━━━━\u001b[0m\u001b[37m\u001b[0m \u001b[1m4s\u001b[0m 5ms/step - accuracy: 0.5035 - loss: 0.0593 - val_accuracy: 0.5000 - val_loss: 0.0371\n",
            "Epoch 14/20\n",
            "\u001b[1m847/847\u001b[0m \u001b[32m━━━━━━━━━━━━━━━━━━━━\u001b[0m\u001b[37m\u001b[0m \u001b[1m4s\u001b[0m 5ms/step - accuracy: 0.5036 - loss: 0.0580 - val_accuracy: 0.5000 - val_loss: 0.0375\n",
            "Epoch 15/20\n",
            "\u001b[1m847/847\u001b[0m \u001b[32m━━━━━━━━━━━━━━━━━━━━\u001b[0m\u001b[37m\u001b[0m \u001b[1m4s\u001b[0m 5ms/step - accuracy: 0.5036 - loss: 0.0574 - val_accuracy: 0.5000 - val_loss: 0.0380\n",
            "Epoch 16/20\n",
            "\u001b[1m847/847\u001b[0m \u001b[32m━━━━━━━━━━━━━━━━━━━━\u001b[0m\u001b[37m\u001b[0m \u001b[1m5s\u001b[0m 5ms/step - accuracy: 0.5033 - loss: 0.0571 - val_accuracy: 0.5000 - val_loss: 0.0361\n",
            "Epoch 17/20\n",
            "\u001b[1m847/847\u001b[0m \u001b[32m━━━━━━━━━━━━━━━━━━━━\u001b[0m\u001b[37m\u001b[0m \u001b[1m4s\u001b[0m 5ms/step - accuracy: 0.5034 - loss: 0.0568 - val_accuracy: 0.5000 - val_loss: 0.0371\n",
            "Epoch 18/20\n",
            "\u001b[1m847/847\u001b[0m \u001b[32m━━━━━━━━━━━━━━━━━━━━\u001b[0m\u001b[37m\u001b[0m \u001b[1m5s\u001b[0m 6ms/step - accuracy: 0.5038 - loss: 0.0563 - val_accuracy: 0.5000 - val_loss: 0.0368\n",
            "Epoch 19/20\n",
            "\u001b[1m847/847\u001b[0m \u001b[32m━━━━━━━━━━━━━━━━━━━━\u001b[0m\u001b[37m\u001b[0m \u001b[1m4s\u001b[0m 5ms/step - accuracy: 0.5037 - loss: 0.0559 - val_accuracy: 0.5000 - val_loss: 0.0387\n",
            "Epoch 20/20\n",
            "\u001b[1m847/847\u001b[0m \u001b[32m━━━━━━━━━━━━━━━━━━━━\u001b[0m\u001b[37m\u001b[0m \u001b[1m4s\u001b[0m 5ms/step - accuracy: 0.5034 - loss: 0.0557 - val_accuracy: 0.5000 - val_loss: 0.0377\n"
          ]
        },
        {
          "output_type": "execute_result",
          "data": {
            "text/plain": [
              "<keras.src.callbacks.history.History at 0x785af4638c40>"
            ]
          },
          "metadata": {},
          "execution_count": 8
        }
      ]
    },
    {
      "cell_type": "code",
      "source": [
        "# Compute final accuracy on the training set\n",
        "# Use the trained model to predict distances for the training pairs\n",
        "y_pred = model.predict([tr_pairs[:, 0], tr_pairs[:, 1]])\n",
        "# Calculate the accuracy of the predictions using the compute_accuracy function\n",
        "tr_acc = compute_accuracy(tr_y, y_pred)\n",
        "\n",
        "# Compute final accuracy on the test set\n",
        "# Use the trained model to predict distances for the test pairs\n",
        "y_pred = model.predict([te_pairs[:, 0], te_pairs[:, 1]])\n",
        "# Calculate the accuracy of the predictions for the test set\n",
        "te_acc = compute_accuracy(te_y, y_pred)\n",
        "\n",
        "# Print the accuracy results for both training and test sets\n",
        "print('* Accuracy on training set: %0.2f%%' % (100 * tr_acc))  # Format and display training accuracy\n",
        "print('* Accuracy on test set: %0.2f%%' % (100 * te_acc))      # Format and display test accuracy"
      ],
      "metadata": {
        "colab": {
          "base_uri": "https://localhost:8080/"
        },
        "id": "6WvJAfKt5O3X",
        "outputId": "4cf2b39a-4f90-4824-c648-f6948df88f66"
      },
      "execution_count": 9,
      "outputs": [
        {
          "output_type": "stream",
          "name": "stdout",
          "text": [
            "\u001b[1m3388/3388\u001b[0m \u001b[32m━━━━━━━━━━━━━━━━━━━━\u001b[0m\u001b[37m\u001b[0m \u001b[1m8s\u001b[0m 2ms/step\n",
            "\u001b[1m557/557\u001b[0m \u001b[32m━━━━━━━━━━━━━━━━━━━━\u001b[0m\u001b[37m\u001b[0m \u001b[1m1s\u001b[0m 2ms/step\n",
            "* Accuracy on training set: 97.59%\n",
            "* Accuracy on test set: 96.45%\n"
          ]
        }
      ]
    },
    {
      "cell_type": "code",
      "source": [
        "# Set the number of items to display\n",
        "number_of_items = 20\n",
        "\n",
        "# Convert the first image from the training pairs to a PIL image for display\n",
        "im = tf.keras.preprocessing.image.array_to_img(\n",
        "    tr_pairs[1, 0],  # Select the first image from the first pair\n",
        "    data_format=None,\n",
        "    scale=True,  # Scale pixel values to [0, 1]\n",
        "    dtype=None\n",
        ")\n",
        "\n",
        "# Create a figure to display the first set of images (first elements of pairs)\n",
        "plt.figure(figsize=(10, 5))\n",
        "for item in range(number_of_items):\n",
        "    # Create a subplot for each image\n",
        "    display = plt.subplot(1, number_of_items, item + 1)\n",
        "    # Convert the current image in the training pairs to a PIL image\n",
        "    im = tf.keras.preprocessing.image.array_to_img(tr_pairs[item, 0], data_format=None, scale=True, dtype=None)\n",
        "    plt.imshow(im, cmap=\"gray\")  # Display the image in grayscale\n",
        "    display.get_xaxis().set_visible(False)  # Hide x-axis ticks\n",
        "    display.get_yaxis().set_visible(False)  # Hide y-axis ticks\n",
        "plt.show()  # Show the figure with images\n",
        "\n",
        "# Create a figure to display the second set of images (second elements of pairs)\n",
        "plt.figure(figsize=(10, 5))\n",
        "for item in range(number_of_items):\n",
        "    display = plt.subplot(1, number_of_items, item + 1)\n",
        "    im = tf.keras.preprocessing.image.array_to_img(tr_pairs[item, 1], data_format=None, scale=True, dtype=None)\n",
        "    plt.imshow(im, cmap=\"gray\")  # Display the image in grayscale\n",
        "    display.get_xaxis().set_visible(False)  # Hide x-axis ticks\n",
        "    display.get_yaxis().set_visible(False)  # Hide y-axis ticks\n",
        "plt.show()  # Show the figure with images\n",
        "\n",
        "# Print predicted distances for the first few items\n",
        "for i in range(number_of_items):\n",
        "    print(y_pred[i])\n",
        "\n",
        "# Display one of the images again (the last processed image)\n",
        "plt.figure(figsize=(20, 2))\n",
        "plt.imshow(im, cmap=\"gray\")  # Show the last image in grayscale\n",
        "plt.show()  # Show the figure with the image"
      ],
      "metadata": {
        "colab": {
          "base_uri": "https://localhost:8080/",
          "height": 668
        },
        "id": "57IW4mp55CQe",
        "outputId": "5cd4ab9c-cfec-4fef-8185-c68e2bb68a50"
      },
      "execution_count": 10,
      "outputs": [
        {
          "output_type": "display_data",
          "data": {
            "text/plain": [
              "<Figure size 1000x500 with 20 Axes>"
            ],
            "image/png": "[encoded data removed]"
          },
          "metadata": {}
        },
        {
          "output_type": "display_data",
          "data": {
            "text/plain": [
              "<Figure size 1000x500 with 20 Axes>"
            ],
            "image/png": "[encoded data removed]"
          },
          "metadata": {}
        },
        {
          "output_type": "stream",
          "name": "stdout",
          "text": [
            "[0.02802661]\n",
            "[0.92600703]\n",
            "[0.03401873]\n",
            "[0.59025306]\n",
            "[0.04951794]\n",
            "[1.160032]\n",
            "[0.127751]\n",
            "[0.42095587]\n",
            "[0.05780412]\n",
            "[1.423219]\n",
            "[0.00802645]\n",
            "[0.59032536]\n",
            "[0.06966292]\n",
            "[1.5064734]\n",
            "[0.03344971]\n",
            "[1.3870462]\n",
            "[0.08790328]\n",
            "[1.2621258]\n",
            "[0.04994301]\n",
            "[1.3413448]\n"
          ]
        },
        {
          "output_type": "display_data",
          "data": {
            "text/plain": [
              "<Figure size 2000x200 with 1 Axes>"
            ],
            "image/png": "[encoded data removed]"
          },
          "metadata": {}
        }
      ]
    },
    {
      "cell_type": "code",
      "source": [],
      "metadata": {
        "id": "6rOhYhKD6-uQ"
      },
      "execution_count": 10,
      "outputs": []
    }
  ]
}